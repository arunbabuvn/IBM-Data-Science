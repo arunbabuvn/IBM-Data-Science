{
  "metadata": {
    "kernelspec": {
      "name": "python",
      "display_name": "Python (Pyodide)",
      "language": "python"
    },
    "language_info": {
      "codemirror_mode": {
        "name": "python",
        "version": 3
      },
      "file_extension": ".py",
      "mimetype": "text/x-python",
      "name": "python",
      "nbconvert_exporter": "python",
      "pygments_lexer": "ipython3",
      "version": "3.8"
    }
  },
  "nbformat_minor": 5,
  "nbformat": 4,
  "cells": [
    {
      "id": "826d8716-ec22-4a10-b67d-2322dcd79365",
      "cell_type": "markdown",
      "source": "# Data Science Tools and Ecosystem\n",
      "metadata": {}
    },
    {
      "id": "236342ec-e441-457c-a1f9-6af9af3174d8",
      "cell_type": "markdown",
      "source": "## Introduction  \nIn this notebook, Data Science Tools and Ecosystem are summarized.\n",
      "metadata": {}
    },
    {
      "id": "ba6c1a01-0d5a-4c96-b4e2-d5701fd55cca",
      "cell_type": "markdown",
      "source": "## Popular Data Science Languages  \nSome of the popular languages that Data Scientists use are:  \n1. Python  \n2. R  \n3. SQL  \n4. Java  \n5. Julia  \n",
      "metadata": {}
    },
    {
      "id": "d661959f-3266-448f-85d1-93d428b14e00",
      "cell_type": "markdown",
      "source": "## Common Data Science Libraries  \nSome of the commonly used libraries used by Data Scientists include:  \n1. NumPy  \n2. Pandas  \n3. Matplotlib  \n4. Scikit-learn  \n5. TensorFlow  \n",
      "metadata": {}
    },
    {
      "id": "d7130fbb-9260-49ac-8a9f-05f6c34ce3fb",
      "cell_type": "markdown",
      "source": "## Data Science Tools  \n\n| Data Science Tools |  \n|--------------------|  \n| Jupyter Notebook  |  \n| Apache Spark      |  \n| RStudio          |  \n",
      "metadata": {}
    },
    {
      "id": "596452ac-505f-40fa-93f6-3565c0f261a3",
      "cell_type": "markdown",
      "source": "### Below are a few examples of evaluating arithmetic expressions in Python.\n",
      "metadata": {}
    },
    {
      "id": "a4b13c53-cf64-43ab-9679-006f6af7286a",
      "cell_type": "code",
      "source": "# This is a simple arithmetic expression to multiply then add integers.\n(3 * 4) + 5  \n",
      "metadata": {
        "trusted": true
      },
      "outputs": [
        {
          "execution_count": 11,
          "output_type": "execute_result",
          "data": {
            "text/plain": "17"
          },
          "metadata": {}
        }
      ],
      "execution_count": 11
    },
    {
      "id": "785d2822-da04-492e-ae71-bc544b0f8c2b",
      "cell_type": "code",
      "source": "# This will convert 200 minutes to hours by dividing by 60.\n200 / 60  \n",
      "metadata": {
        "trusted": true
      },
      "outputs": [
        {
          "execution_count": 12,
          "output_type": "execute_result",
          "data": {
            "text/plain": "3.3333333333333335"
          },
          "metadata": {}
        }
      ],
      "execution_count": 12
    },
    {
      "id": "0f25856c-f128-422d-8852-9cbd9b763955",
      "cell_type": "markdown",
      "source": "## **Objectives**  \n- List popular languages for Data Science  \n- Identify common libraries used in Data Science  \n- Understand basic arithmetic expressions in Python  \n- Learn about tools used in Data Science  \n",
      "metadata": {}
    },
    {
      "id": "c39316b1-1a02-4738-9543-e6f4a4e5d92a",
      "cell_type": "markdown",
      "source": "## Author  \nArun Babu  ",
      "metadata": {}
    }
  ]
}